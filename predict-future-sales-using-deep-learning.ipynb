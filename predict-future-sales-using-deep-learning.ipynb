{
 "cells": [
  {
   "cell_type": "markdown",
   "metadata": {
    "papermill": {
     "duration": 0.035976,
     "end_time": "2021-01-05T14:19:53.704440",
     "exception": false,
     "start_time": "2021-01-05T14:19:53.668464",
     "status": "completed"
    },
    "tags": []
   },
   "source": [
    "# Introduction\n",
    "In this notebook, I will show how to apply deep learning on time series problem. In this problem we are provided with daily historical sales data. The task is to forecast the total amount of products sold in every shop for the next month.\n",
    "\n",
    "### Data fields description:\n",
    "* ID - an Id that represents a (Shop, Item) tuple within the test set\n",
    "* shop_id - unique identifier of a shop\n",
    "* item_id - unique identifier of a product\n",
    "* item_category_id - unique identifier of item category\n",
    "* date_block_num - a consecutive month number, used for convenience. January 2013 is 0, February 2013 is     1,..., October 2015 is 33\n",
    "* date - date in format dd/mm/yyyy\n",
    "* item_cnt_day - number of products sold. You are predicting a monthly amount of this measure\n",
    "* item_price - current price of an item\n",
    "* item_name - name of item\n",
    "* shop_name - name of shop\n",
    "* item_category_name - name of item category"
   ]
  },
  {
   "cell_type": "markdown",
   "metadata": {
    "papermill": {
     "duration": 0.035331,
     "end_time": "2021-01-05T14:19:53.774887",
     "exception": false,
     "start_time": "2021-01-05T14:19:53.739556",
     "status": "completed"
    },
    "tags": []
   },
   "source": [
    "# Table of Contents\n",
    "* Importing Libraries\n",
    "* Reading the data\n",
    "* EDA & Data Preprocessing\n",
    "* Time Series Processing\n",
    "* Deep Learning Models\n",
    "* Prediction on test set"
   ]
  },
  {
   "cell_type": "markdown",
   "metadata": {
    "papermill": {
     "duration": 0.034344,
     "end_time": "2021-01-05T14:19:53.843859",
     "exception": false,
     "start_time": "2021-01-05T14:19:53.809515",
     "status": "completed"
    },
    "tags": []
   },
   "source": [
    "# Importing Libraries"
   ]
  },
  {
   "cell_type": "code",
   "execution_count": 1,
   "metadata": {
    "_cell_guid": "b1076dfc-b9ad-4769-8c92-a6c4dae69d19",
    "_uuid": "8f2839f25d086af736a60e9eeb907d3b93b6e0e5",
    "execution": {
     "iopub.execute_input": "2021-01-05T14:19:53.927061Z",
     "iopub.status.busy": "2021-01-05T14:19:53.926361Z",
     "iopub.status.idle": "2021-01-05T14:20:01.541794Z",
     "shell.execute_reply": "2021-01-05T14:20:01.541106Z"
    },
    "papermill": {
     "duration": 7.66368,
     "end_time": "2021-01-05T14:20:01.541938",
     "exception": false,
     "start_time": "2021-01-05T14:19:53.878258",
     "status": "completed"
    },
    "tags": []
   },
   "outputs": [],
   "source": [
    "import numpy as np\n",
    "import pandas as pd\n",
    "import matplotlib.pyplot as plt\n",
    "%matplotlib inline\n",
    "import seaborn as sns\n",
    "sns.set(style=\"darkgrid\")\n",
    "from sklearn.model_selection import train_test_split\n",
    "\n",
    "import keras\n",
    "from keras.models import Sequential\n",
    "from keras.layers import LSTM, Dense, Dropout, RepeatVector, TimeDistributed\n",
    "from keras.optimizers import Adam\n",
    "from keras import Model"
   ]
  },
  {
   "cell_type": "markdown",
   "metadata": {
    "papermill": {
     "duration": 0.035363,
     "end_time": "2021-01-05T14:20:01.612971",
     "exception": false,
     "start_time": "2021-01-05T14:20:01.577608",
     "status": "completed"
    },
    "tags": []
   },
   "source": [
    "# Reading the data"
   ]
  },
  {
   "cell_type": "code",
   "execution_count": 2,
   "metadata": {
    "_cell_guid": "79c7e3d0-c299-4dcb-8224-4455121ee9b0",
    "_uuid": "d629ff2d2480ee46fbb7e2d37f6b5fab8052498a",
    "execution": {
     "iopub.execute_input": "2021-01-05T14:20:01.693863Z",
     "iopub.status.busy": "2021-01-05T14:20:01.693125Z",
     "iopub.status.idle": "2021-01-05T14:20:05.303551Z",
     "shell.execute_reply": "2021-01-05T14:20:05.302896Z"
    },
    "papermill": {
     "duration": 3.655065,
     "end_time": "2021-01-05T14:20:05.303671",
     "exception": false,
     "start_time": "2021-01-05T14:20:01.648606",
     "status": "completed"
    },
    "tags": []
   },
   "outputs": [],
   "source": [
    "df1 = pd.read_csv('../input/competitive-data-science-predict-future-sales/item_categories.csv')\n",
    "df2 = pd.read_csv('../input/competitive-data-science-predict-future-sales/items.csv')\n",
    "df3 = pd.read_csv('../input/competitive-data-science-predict-future-sales/sales_train.csv', parse_dates = ['date']) \n",
    "df4 = pd.read_csv('../input/competitive-data-science-predict-future-sales/shops.csv')\n",
    "test = pd.read_csv('../input/competitive-data-science-predict-future-sales/test.csv')"
   ]
  },
  {
   "cell_type": "code",
   "execution_count": 3,
   "metadata": {
    "execution": {
     "iopub.execute_input": "2021-01-05T14:20:05.386979Z",
     "iopub.status.busy": "2021-01-05T14:20:05.385741Z",
     "iopub.status.idle": "2021-01-05T14:20:05.396176Z",
     "shell.execute_reply": "2021-01-05T14:20:05.396692Z"
    },
    "papermill": {
     "duration": 0.05828,
     "end_time": "2021-01-05T14:20:05.396856",
     "exception": false,
     "start_time": "2021-01-05T14:20:05.338576",
     "status": "completed"
    },
    "tags": []
   },
   "outputs": [
    {
     "data": {
      "text/html": [
       "<div>\n",
       "<style scoped>\n",
       "    .dataframe tbody tr th:only-of-type {\n",
       "        vertical-align: middle;\n",
       "    }\n",
       "\n",
       "    .dataframe tbody tr th {\n",
       "        vertical-align: top;\n",
       "    }\n",
       "\n",
       "    .dataframe thead th {\n",
       "        text-align: right;\n",
       "    }\n",
       "</style>\n",
       "<table border=\"1\" class=\"dataframe\">\n",
       "  <thead>\n",
       "    <tr style=\"text-align: right;\">\n",
       "      <th></th>\n",
       "      <th>item_category_name</th>\n",
       "      <th>item_category_id</th>\n",
       "    </tr>\n",
       "  </thead>\n",
       "  <tbody>\n",
       "    <tr>\n",
       "      <th>0</th>\n",
       "      <td>PC - Гарнитуры/Наушники</td>\n",
       "      <td>0</td>\n",
       "    </tr>\n",
       "    <tr>\n",
       "      <th>1</th>\n",
       "      <td>Аксессуары - PS2</td>\n",
       "      <td>1</td>\n",
       "    </tr>\n",
       "    <tr>\n",
       "      <th>2</th>\n",
       "      <td>Аксессуары - PS3</td>\n",
       "      <td>2</td>\n",
       "    </tr>\n",
       "    <tr>\n",
       "      <th>3</th>\n",
       "      <td>Аксессуары - PS4</td>\n",
       "      <td>3</td>\n",
       "    </tr>\n",
       "    <tr>\n",
       "      <th>4</th>\n",
       "      <td>Аксессуары - PSP</td>\n",
       "      <td>4</td>\n",
       "    </tr>\n",
       "  </tbody>\n",
       "</table>\n",
       "</div>"
      ],
      "text/plain": [
       "        item_category_name  item_category_id\n",
       "0  PC - Гарнитуры/Наушники                 0\n",
       "1         Аксессуары - PS2                 1\n",
       "2         Аксессуары - PS3                 2\n",
       "3         Аксессуары - PS4                 3\n",
       "4         Аксессуары - PSP                 4"
      ]
     },
     "execution_count": 3,
     "metadata": {},
     "output_type": "execute_result"
    }
   ],
   "source": [
    "df1.head()"
   ]
  },
  {
   "cell_type": "code",
   "execution_count": 4,
   "metadata": {
    "execution": {
     "iopub.execute_input": "2021-01-05T14:20:05.478815Z",
     "iopub.status.busy": "2021-01-05T14:20:05.477880Z",
     "iopub.status.idle": "2021-01-05T14:20:05.482343Z",
     "shell.execute_reply": "2021-01-05T14:20:05.482976Z"
    },
    "papermill": {
     "duration": 0.050122,
     "end_time": "2021-01-05T14:20:05.483190",
     "exception": false,
     "start_time": "2021-01-05T14:20:05.433068",
     "status": "completed"
    },
    "tags": []
   },
   "outputs": [
    {
     "data": {
      "text/html": [
       "<div>\n",
       "<style scoped>\n",
       "    .dataframe tbody tr th:only-of-type {\n",
       "        vertical-align: middle;\n",
       "    }\n",
       "\n",
       "    .dataframe tbody tr th {\n",
       "        vertical-align: top;\n",
       "    }\n",
       "\n",
       "    .dataframe thead th {\n",
       "        text-align: right;\n",
       "    }\n",
       "</style>\n",
       "<table border=\"1\" class=\"dataframe\">\n",
       "  <thead>\n",
       "    <tr style=\"text-align: right;\">\n",
       "      <th></th>\n",
       "      <th>item_name</th>\n",
       "      <th>item_id</th>\n",
       "      <th>item_category_id</th>\n",
       "    </tr>\n",
       "  </thead>\n",
       "  <tbody>\n",
       "    <tr>\n",
       "      <th>0</th>\n",
       "      <td>! ВО ВЛАСТИ НАВАЖДЕНИЯ (ПЛАСТ.)         D</td>\n",
       "      <td>0</td>\n",
       "      <td>40</td>\n",
       "    </tr>\n",
       "    <tr>\n",
       "      <th>1</th>\n",
       "      <td>!ABBYY FineReader 12 Professional Edition Full...</td>\n",
       "      <td>1</td>\n",
       "      <td>76</td>\n",
       "    </tr>\n",
       "    <tr>\n",
       "      <th>2</th>\n",
       "      <td>***В ЛУЧАХ СЛАВЫ   (UNV)                    D</td>\n",
       "      <td>2</td>\n",
       "      <td>40</td>\n",
       "    </tr>\n",
       "    <tr>\n",
       "      <th>3</th>\n",
       "      <td>***ГОЛУБАЯ ВОЛНА  (Univ)                      D</td>\n",
       "      <td>3</td>\n",
       "      <td>40</td>\n",
       "    </tr>\n",
       "    <tr>\n",
       "      <th>4</th>\n",
       "      <td>***КОРОБКА (СТЕКЛО)                       D</td>\n",
       "      <td>4</td>\n",
       "      <td>40</td>\n",
       "    </tr>\n",
       "  </tbody>\n",
       "</table>\n",
       "</div>"
      ],
      "text/plain": [
       "                                           item_name  item_id  \\\n",
       "0          ! ВО ВЛАСТИ НАВАЖДЕНИЯ (ПЛАСТ.)         D        0   \n",
       "1  !ABBYY FineReader 12 Professional Edition Full...        1   \n",
       "2      ***В ЛУЧАХ СЛАВЫ   (UNV)                    D        2   \n",
       "3    ***ГОЛУБАЯ ВОЛНА  (Univ)                      D        3   \n",
       "4        ***КОРОБКА (СТЕКЛО)                       D        4   \n",
       "\n",
       "   item_category_id  \n",
       "0                40  \n",
       "1                76  \n",
       "2                40  \n",
       "3                40  \n",
       "4                40  "
      ]
     },
     "execution_count": 4,
     "metadata": {},
     "output_type": "execute_result"
    }
   ],
   "source": [
    "df2.head()"
   ]
  },
  {
   "cell_type": "code",
   "execution_count": 5,
   "metadata": {
    "execution": {
     "iopub.execute_input": "2021-01-05T14:20:05.571942Z",
     "iopub.status.busy": "2021-01-05T14:20:05.570991Z",
     "iopub.status.idle": "2021-01-05T14:20:05.576461Z",
     "shell.execute_reply": "2021-01-05T14:20:05.575953Z"
    },
    "papermill": {
     "duration": 0.056786,
     "end_time": "2021-01-05T14:20:05.576584",
     "exception": false,
     "start_time": "2021-01-05T14:20:05.519798",
     "status": "completed"
    },
    "tags": []
   },
   "outputs": [
    {
     "data": {
      "text/html": [
       "<div>\n",
       "<style scoped>\n",
       "    .dataframe tbody tr th:only-of-type {\n",
       "        vertical-align: middle;\n",
       "    }\n",
       "\n",
       "    .dataframe tbody tr th {\n",
       "        vertical-align: top;\n",
       "    }\n",
       "\n",
       "    .dataframe thead th {\n",
       "        text-align: right;\n",
       "    }\n",
       "</style>\n",
       "<table border=\"1\" class=\"dataframe\">\n",
       "  <thead>\n",
       "    <tr style=\"text-align: right;\">\n",
       "      <th></th>\n",
       "      <th>date</th>\n",
       "      <th>date_block_num</th>\n",
       "      <th>shop_id</th>\n",
       "      <th>item_id</th>\n",
       "      <th>item_price</th>\n",
       "      <th>item_cnt_day</th>\n",
       "    </tr>\n",
       "  </thead>\n",
       "  <tbody>\n",
       "    <tr>\n",
       "      <th>0</th>\n",
       "      <td>2013-02-01</td>\n",
       "      <td>0</td>\n",
       "      <td>59</td>\n",
       "      <td>22154</td>\n",
       "      <td>999.00</td>\n",
       "      <td>1.0</td>\n",
       "    </tr>\n",
       "    <tr>\n",
       "      <th>1</th>\n",
       "      <td>2013-03-01</td>\n",
       "      <td>0</td>\n",
       "      <td>25</td>\n",
       "      <td>2552</td>\n",
       "      <td>899.00</td>\n",
       "      <td>1.0</td>\n",
       "    </tr>\n",
       "    <tr>\n",
       "      <th>2</th>\n",
       "      <td>2013-05-01</td>\n",
       "      <td>0</td>\n",
       "      <td>25</td>\n",
       "      <td>2552</td>\n",
       "      <td>899.00</td>\n",
       "      <td>-1.0</td>\n",
       "    </tr>\n",
       "    <tr>\n",
       "      <th>3</th>\n",
       "      <td>2013-06-01</td>\n",
       "      <td>0</td>\n",
       "      <td>25</td>\n",
       "      <td>2554</td>\n",
       "      <td>1709.05</td>\n",
       "      <td>1.0</td>\n",
       "    </tr>\n",
       "    <tr>\n",
       "      <th>4</th>\n",
       "      <td>2013-01-15</td>\n",
       "      <td>0</td>\n",
       "      <td>25</td>\n",
       "      <td>2555</td>\n",
       "      <td>1099.00</td>\n",
       "      <td>1.0</td>\n",
       "    </tr>\n",
       "  </tbody>\n",
       "</table>\n",
       "</div>"
      ],
      "text/plain": [
       "        date  date_block_num  shop_id  item_id  item_price  item_cnt_day\n",
       "0 2013-02-01               0       59    22154      999.00           1.0\n",
       "1 2013-03-01               0       25     2552      899.00           1.0\n",
       "2 2013-05-01               0       25     2552      899.00          -1.0\n",
       "3 2013-06-01               0       25     2554     1709.05           1.0\n",
       "4 2013-01-15               0       25     2555     1099.00           1.0"
      ]
     },
     "execution_count": 5,
     "metadata": {},
     "output_type": "execute_result"
    }
   ],
   "source": [
    "df3.head()"
   ]
  },
  {
   "cell_type": "code",
   "execution_count": 6,
   "metadata": {
    "execution": {
     "iopub.execute_input": "2021-01-05T14:20:05.660287Z",
     "iopub.status.busy": "2021-01-05T14:20:05.659300Z",
     "iopub.status.idle": "2021-01-05T14:20:05.663530Z",
     "shell.execute_reply": "2021-01-05T14:20:05.664066Z"
    },
    "papermill": {
     "duration": 0.050517,
     "end_time": "2021-01-05T14:20:05.664205",
     "exception": false,
     "start_time": "2021-01-05T14:20:05.613688",
     "status": "completed"
    },
    "tags": []
   },
   "outputs": [
    {
     "data": {
      "text/html": [
       "<div>\n",
       "<style scoped>\n",
       "    .dataframe tbody tr th:only-of-type {\n",
       "        vertical-align: middle;\n",
       "    }\n",
       "\n",
       "    .dataframe tbody tr th {\n",
       "        vertical-align: top;\n",
       "    }\n",
       "\n",
       "    .dataframe thead th {\n",
       "        text-align: right;\n",
       "    }\n",
       "</style>\n",
       "<table border=\"1\" class=\"dataframe\">\n",
       "  <thead>\n",
       "    <tr style=\"text-align: right;\">\n",
       "      <th></th>\n",
       "      <th>shop_name</th>\n",
       "      <th>shop_id</th>\n",
       "    </tr>\n",
       "  </thead>\n",
       "  <tbody>\n",
       "    <tr>\n",
       "      <th>0</th>\n",
       "      <td>!Якутск Орджоникидзе, 56 фран</td>\n",
       "      <td>0</td>\n",
       "    </tr>\n",
       "    <tr>\n",
       "      <th>1</th>\n",
       "      <td>!Якутск ТЦ \"Центральный\" фран</td>\n",
       "      <td>1</td>\n",
       "    </tr>\n",
       "    <tr>\n",
       "      <th>2</th>\n",
       "      <td>Адыгея ТЦ \"Мега\"</td>\n",
       "      <td>2</td>\n",
       "    </tr>\n",
       "    <tr>\n",
       "      <th>3</th>\n",
       "      <td>Балашиха ТРК \"Октябрь-Киномир\"</td>\n",
       "      <td>3</td>\n",
       "    </tr>\n",
       "    <tr>\n",
       "      <th>4</th>\n",
       "      <td>Волжский ТЦ \"Волга Молл\"</td>\n",
       "      <td>4</td>\n",
       "    </tr>\n",
       "  </tbody>\n",
       "</table>\n",
       "</div>"
      ],
      "text/plain": [
       "                        shop_name  shop_id\n",
       "0   !Якутск Орджоникидзе, 56 фран        0\n",
       "1   !Якутск ТЦ \"Центральный\" фран        1\n",
       "2                Адыгея ТЦ \"Мега\"        2\n",
       "3  Балашиха ТРК \"Октябрь-Киномир\"        3\n",
       "4        Волжский ТЦ \"Волга Молл\"        4"
      ]
     },
     "execution_count": 6,
     "metadata": {},
     "output_type": "execute_result"
    }
   ],
   "source": [
    "df4.head()"
   ]
  },
  {
   "cell_type": "markdown",
   "metadata": {
    "papermill": {
     "duration": 0.036994,
     "end_time": "2021-01-05T14:20:05.739169",
     "exception": false,
     "start_time": "2021-01-05T14:20:05.702175",
     "status": "completed"
    },
    "tags": []
   },
   "source": [
    "## Join the datasets"
   ]
  },
  {
   "cell_type": "code",
   "execution_count": 7,
   "metadata": {
    "execution": {
     "iopub.execute_input": "2021-01-05T14:20:05.821411Z",
     "iopub.status.busy": "2021-01-05T14:20:05.820735Z",
     "iopub.status.idle": "2021-01-05T14:20:07.221071Z",
     "shell.execute_reply": "2021-01-05T14:20:07.220415Z"
    },
    "papermill": {
     "duration": 1.44389,
     "end_time": "2021-01-05T14:20:07.221193",
     "exception": false,
     "start_time": "2021-01-05T14:20:05.777303",
     "status": "completed"
    },
    "tags": []
   },
   "outputs": [],
   "source": [
    "df = df3.join(df2, on='item_id', rsuffix='_').join(df4, on='shop_id', rsuffix='_').join(df1, on='item_category_id', rsuffix='_').drop(['item_id_', 'shop_id_','item_category_id_'], axis=1)"
   ]
  },
  {
   "cell_type": "code",
   "execution_count": 8,
   "metadata": {
    "execution": {
     "iopub.execute_input": "2021-01-05T14:20:07.312346Z",
     "iopub.status.busy": "2021-01-05T14:20:07.311614Z",
     "iopub.status.idle": "2021-01-05T14:20:07.315395Z",
     "shell.execute_reply": "2021-01-05T14:20:07.316029Z"
    },
    "papermill": {
     "duration": 0.056613,
     "end_time": "2021-01-05T14:20:07.316166",
     "exception": false,
     "start_time": "2021-01-05T14:20:07.259553",
     "status": "completed"
    },
    "tags": []
   },
   "outputs": [
    {
     "data": {
      "text/html": [
       "<div>\n",
       "<style scoped>\n",
       "    .dataframe tbody tr th:only-of-type {\n",
       "        vertical-align: middle;\n",
       "    }\n",
       "\n",
       "    .dataframe tbody tr th {\n",
       "        vertical-align: top;\n",
       "    }\n",
       "\n",
       "    .dataframe thead th {\n",
       "        text-align: right;\n",
       "    }\n",
       "</style>\n",
       "<table border=\"1\" class=\"dataframe\">\n",
       "  <thead>\n",
       "    <tr style=\"text-align: right;\">\n",
       "      <th></th>\n",
       "      <th>date</th>\n",
       "      <th>date_block_num</th>\n",
       "      <th>shop_id</th>\n",
       "      <th>item_id</th>\n",
       "      <th>item_price</th>\n",
       "      <th>item_cnt_day</th>\n",
       "      <th>item_name</th>\n",
       "      <th>item_category_id</th>\n",
       "      <th>shop_name</th>\n",
       "      <th>item_category_name</th>\n",
       "    </tr>\n",
       "  </thead>\n",
       "  <tbody>\n",
       "    <tr>\n",
       "      <th>0</th>\n",
       "      <td>2013-02-01</td>\n",
       "      <td>0</td>\n",
       "      <td>59</td>\n",
       "      <td>22154</td>\n",
       "      <td>999.00</td>\n",
       "      <td>1.0</td>\n",
       "      <td>ЯВЛЕНИЕ 2012 (BD)</td>\n",
       "      <td>37</td>\n",
       "      <td>Ярославль ТЦ \"Альтаир\"</td>\n",
       "      <td>Кино - Blu-Ray</td>\n",
       "    </tr>\n",
       "    <tr>\n",
       "      <th>1</th>\n",
       "      <td>2013-03-01</td>\n",
       "      <td>0</td>\n",
       "      <td>25</td>\n",
       "      <td>2552</td>\n",
       "      <td>899.00</td>\n",
       "      <td>1.0</td>\n",
       "      <td>DEEP PURPLE  The House Of Blue Light  LP</td>\n",
       "      <td>58</td>\n",
       "      <td>Москва ТРК \"Атриум\"</td>\n",
       "      <td>Музыка - Винил</td>\n",
       "    </tr>\n",
       "    <tr>\n",
       "      <th>2</th>\n",
       "      <td>2013-05-01</td>\n",
       "      <td>0</td>\n",
       "      <td>25</td>\n",
       "      <td>2552</td>\n",
       "      <td>899.00</td>\n",
       "      <td>-1.0</td>\n",
       "      <td>DEEP PURPLE  The House Of Blue Light  LP</td>\n",
       "      <td>58</td>\n",
       "      <td>Москва ТРК \"Атриум\"</td>\n",
       "      <td>Музыка - Винил</td>\n",
       "    </tr>\n",
       "    <tr>\n",
       "      <th>3</th>\n",
       "      <td>2013-06-01</td>\n",
       "      <td>0</td>\n",
       "      <td>25</td>\n",
       "      <td>2554</td>\n",
       "      <td>1709.05</td>\n",
       "      <td>1.0</td>\n",
       "      <td>DEEP PURPLE  Who Do You Think We Are  LP</td>\n",
       "      <td>58</td>\n",
       "      <td>Москва ТРК \"Атриум\"</td>\n",
       "      <td>Музыка - Винил</td>\n",
       "    </tr>\n",
       "    <tr>\n",
       "      <th>4</th>\n",
       "      <td>2013-01-15</td>\n",
       "      <td>0</td>\n",
       "      <td>25</td>\n",
       "      <td>2555</td>\n",
       "      <td>1099.00</td>\n",
       "      <td>1.0</td>\n",
       "      <td>DEEP PURPLE 30 Very Best Of 2CD (Фирм.)</td>\n",
       "      <td>56</td>\n",
       "      <td>Москва ТРК \"Атриум\"</td>\n",
       "      <td>Музыка - CD фирменного производства</td>\n",
       "    </tr>\n",
       "  </tbody>\n",
       "</table>\n",
       "</div>"
      ],
      "text/plain": [
       "        date  date_block_num  shop_id  item_id  item_price  item_cnt_day  \\\n",
       "0 2013-02-01               0       59    22154      999.00           1.0   \n",
       "1 2013-03-01               0       25     2552      899.00           1.0   \n",
       "2 2013-05-01               0       25     2552      899.00          -1.0   \n",
       "3 2013-06-01               0       25     2554     1709.05           1.0   \n",
       "4 2013-01-15               0       25     2555     1099.00           1.0   \n",
       "\n",
       "                                  item_name  item_category_id  \\\n",
       "0                         ЯВЛЕНИЕ 2012 (BD)                37   \n",
       "1  DEEP PURPLE  The House Of Blue Light  LP                58   \n",
       "2  DEEP PURPLE  The House Of Blue Light  LP                58   \n",
       "3  DEEP PURPLE  Who Do You Think We Are  LP                58   \n",
       "4   DEEP PURPLE 30 Very Best Of 2CD (Фирм.)                56   \n",
       "\n",
       "                shop_name                   item_category_name  \n",
       "0  Ярославль ТЦ \"Альтаир\"                       Кино - Blu-Ray  \n",
       "1     Москва ТРК \"Атриум\"                       Музыка - Винил  \n",
       "2     Москва ТРК \"Атриум\"                       Музыка - Винил  \n",
       "3     Москва ТРК \"Атриум\"                       Музыка - Винил  \n",
       "4     Москва ТРК \"Атриум\"  Музыка - CD фирменного производства  "
      ]
     },
     "execution_count": 8,
     "metadata": {},
     "output_type": "execute_result"
    }
   ],
   "source": [
    "df.head()"
   ]
  },
  {
   "cell_type": "code",
   "execution_count": 9,
   "metadata": {
    "execution": {
     "iopub.execute_input": "2021-01-05T14:20:07.435329Z",
     "iopub.status.busy": "2021-01-05T14:20:07.434644Z",
     "iopub.status.idle": "2021-01-05T14:20:07.910174Z",
     "shell.execute_reply": "2021-01-05T14:20:07.909441Z"
    },
    "papermill": {
     "duration": 0.556146,
     "end_time": "2021-01-05T14:20:07.910298",
     "exception": false,
     "start_time": "2021-01-05T14:20:07.354152",
     "status": "completed"
    },
    "tags": []
   },
   "outputs": [
    {
     "data": {
      "text/html": [
       "<div>\n",
       "<style scoped>\n",
       "    .dataframe tbody tr th:only-of-type {\n",
       "        vertical-align: middle;\n",
       "    }\n",
       "\n",
       "    .dataframe tbody tr th {\n",
       "        vertical-align: top;\n",
       "    }\n",
       "\n",
       "    .dataframe thead th {\n",
       "        text-align: right;\n",
       "    }\n",
       "</style>\n",
       "<table border=\"1\" class=\"dataframe\">\n",
       "  <thead>\n",
       "    <tr style=\"text-align: right;\">\n",
       "      <th></th>\n",
       "      <th>date_block_num</th>\n",
       "      <th>shop_id</th>\n",
       "      <th>item_id</th>\n",
       "      <th>item_price</th>\n",
       "      <th>item_cnt_day</th>\n",
       "      <th>item_category_id</th>\n",
       "    </tr>\n",
       "  </thead>\n",
       "  <tbody>\n",
       "    <tr>\n",
       "      <th>count</th>\n",
       "      <td>2.935849e+06</td>\n",
       "      <td>2.935849e+06</td>\n",
       "      <td>2.935849e+06</td>\n",
       "      <td>2.935849e+06</td>\n",
       "      <td>2.935849e+06</td>\n",
       "      <td>2.935849e+06</td>\n",
       "    </tr>\n",
       "    <tr>\n",
       "      <th>mean</th>\n",
       "      <td>1.456991e+01</td>\n",
       "      <td>3.300173e+01</td>\n",
       "      <td>1.019723e+04</td>\n",
       "      <td>8.908532e+02</td>\n",
       "      <td>1.242641e+00</td>\n",
       "      <td>4.000138e+01</td>\n",
       "    </tr>\n",
       "    <tr>\n",
       "      <th>std</th>\n",
       "      <td>9.422988e+00</td>\n",
       "      <td>1.622697e+01</td>\n",
       "      <td>6.324297e+03</td>\n",
       "      <td>1.729800e+03</td>\n",
       "      <td>2.618834e+00</td>\n",
       "      <td>1.710076e+01</td>\n",
       "    </tr>\n",
       "    <tr>\n",
       "      <th>min</th>\n",
       "      <td>0.000000e+00</td>\n",
       "      <td>0.000000e+00</td>\n",
       "      <td>0.000000e+00</td>\n",
       "      <td>-1.000000e+00</td>\n",
       "      <td>-2.200000e+01</td>\n",
       "      <td>0.000000e+00</td>\n",
       "    </tr>\n",
       "    <tr>\n",
       "      <th>25%</th>\n",
       "      <td>7.000000e+00</td>\n",
       "      <td>2.200000e+01</td>\n",
       "      <td>4.476000e+03</td>\n",
       "      <td>2.490000e+02</td>\n",
       "      <td>1.000000e+00</td>\n",
       "      <td>2.800000e+01</td>\n",
       "    </tr>\n",
       "    <tr>\n",
       "      <th>50%</th>\n",
       "      <td>1.400000e+01</td>\n",
       "      <td>3.100000e+01</td>\n",
       "      <td>9.343000e+03</td>\n",
       "      <td>3.990000e+02</td>\n",
       "      <td>1.000000e+00</td>\n",
       "      <td>4.000000e+01</td>\n",
       "    </tr>\n",
       "    <tr>\n",
       "      <th>75%</th>\n",
       "      <td>2.300000e+01</td>\n",
       "      <td>4.700000e+01</td>\n",
       "      <td>1.568400e+04</td>\n",
       "      <td>9.990000e+02</td>\n",
       "      <td>1.000000e+00</td>\n",
       "      <td>5.500000e+01</td>\n",
       "    </tr>\n",
       "    <tr>\n",
       "      <th>max</th>\n",
       "      <td>3.300000e+01</td>\n",
       "      <td>5.900000e+01</td>\n",
       "      <td>2.216900e+04</td>\n",
       "      <td>3.079800e+05</td>\n",
       "      <td>2.169000e+03</td>\n",
       "      <td>8.300000e+01</td>\n",
       "    </tr>\n",
       "  </tbody>\n",
       "</table>\n",
       "</div>"
      ],
      "text/plain": [
       "       date_block_num       shop_id       item_id    item_price  item_cnt_day  \\\n",
       "count    2.935849e+06  2.935849e+06  2.935849e+06  2.935849e+06  2.935849e+06   \n",
       "mean     1.456991e+01  3.300173e+01  1.019723e+04  8.908532e+02  1.242641e+00   \n",
       "std      9.422988e+00  1.622697e+01  6.324297e+03  1.729800e+03  2.618834e+00   \n",
       "min      0.000000e+00  0.000000e+00  0.000000e+00 -1.000000e+00 -2.200000e+01   \n",
       "25%      7.000000e+00  2.200000e+01  4.476000e+03  2.490000e+02  1.000000e+00   \n",
       "50%      1.400000e+01  3.100000e+01  9.343000e+03  3.990000e+02  1.000000e+00   \n",
       "75%      2.300000e+01  4.700000e+01  1.568400e+04  9.990000e+02  1.000000e+00   \n",
       "max      3.300000e+01  5.900000e+01  2.216900e+04  3.079800e+05  2.169000e+03   \n",
       "\n",
       "       item_category_id  \n",
       "count      2.935849e+06  \n",
       "mean       4.000138e+01  \n",
       "std        1.710076e+01  \n",
       "min        0.000000e+00  \n",
       "25%        2.800000e+01  \n",
       "50%        4.000000e+01  \n",
       "75%        5.500000e+01  \n",
       "max        8.300000e+01  "
      ]
     },
     "execution_count": 9,
     "metadata": {},
     "output_type": "execute_result"
    }
   ],
   "source": [
    "df.describe()"
   ]
  },
  {
   "cell_type": "markdown",
   "metadata": {
    "papermill": {
     "duration": 0.03852,
     "end_time": "2021-01-05T14:20:07.988794",
     "exception": false,
     "start_time": "2021-01-05T14:20:07.950274",
     "status": "completed"
    },
    "tags": []
   },
   "source": [
    "## Time Period of dataset"
   ]
  },
  {
   "cell_type": "code",
   "execution_count": 10,
   "metadata": {
    "execution": {
     "iopub.execute_input": "2021-01-05T14:20:08.072719Z",
     "iopub.status.busy": "2021-01-05T14:20:08.072032Z",
     "iopub.status.idle": "2021-01-05T14:20:08.104338Z",
     "shell.execute_reply": "2021-01-05T14:20:08.103516Z"
    },
    "papermill": {
     "duration": 0.077105,
     "end_time": "2021-01-05T14:20:08.104505",
     "exception": false,
     "start_time": "2021-01-05T14:20:08.027400",
     "status": "completed"
    },
    "tags": []
   },
   "outputs": [
    {
     "name": "stdout",
     "output_type": "stream",
     "text": [
      "Min date from the dataset: 2013-01-01 00:00:00\n",
      "Max date from the dataset: 2015-12-10 00:00:00\n"
     ]
    }
   ],
   "source": [
    "print(\"Min date from the dataset: %s\" % df['date'].min())\n",
    "print(\"Max date from the dataset: %s\" % df['date'].max())"
   ]
  },
  {
   "cell_type": "markdown",
   "metadata": {
    "papermill": {
     "duration": 0.039248,
     "end_time": "2021-01-05T14:20:08.183758",
     "exception": false,
     "start_time": "2021-01-05T14:20:08.144510",
     "status": "completed"
    },
    "tags": []
   },
   "source": [
    "# EDA & Data Preprocessing"
   ]
  },
  {
   "cell_type": "markdown",
   "metadata": {
    "papermill": {
     "duration": 0.039318,
     "end_time": "2021-01-05T14:20:08.262589",
     "exception": false,
     "start_time": "2021-01-05T14:20:08.223271",
     "status": "completed"
    },
    "tags": []
   },
   "source": [
    "### Firstly, let's check for outliers"
   ]
  },
  {
   "cell_type": "code",
   "execution_count": 11,
   "metadata": {
    "execution": {
     "iopub.execute_input": "2021-01-05T14:20:08.347364Z",
     "iopub.status.busy": "2021-01-05T14:20:08.346628Z",
     "iopub.status.idle": "2021-01-05T14:20:09.273565Z",
     "shell.execute_reply": "2021-01-05T14:20:09.272874Z"
    },
    "papermill": {
     "duration": 0.971602,
     "end_time": "2021-01-05T14:20:09.273717",
     "exception": false,
     "start_time": "2021-01-05T14:20:08.302115",
     "status": "completed"
    },
    "tags": []
   },
   "outputs": [
    {
     "data": {
      "image/png": "[encoded data removed]",
      "text/plain": [
       "<Figure size 720x432 with 1 Axes>"
      ]
     },
     "metadata": {},
     "output_type": "display_data"
    }
   ],
   "source": [
    "plt.figure(figsize=(10,6))\n",
    "sns.boxplot(df['item_price'])\n",
    "plt.show()"
   ]
  },
  {
   "cell_type": "markdown",
   "metadata": {
    "papermill": {
     "duration": 0.040332,
     "end_time": "2021-01-05T14:20:09.355367",
     "exception": false,
     "start_time": "2021-01-05T14:20:09.315035",
     "status": "completed"
    },
    "tags": []
   },
   "source": [
    "I will treat \"item_price\" >= 400000 as outliers, so I'll remove them."
   ]
  },
  {
   "cell_type": "code",
   "execution_count": 12,
   "metadata": {
    "execution": {
     "iopub.execute_input": "2021-01-05T14:20:09.440831Z",
     "iopub.status.busy": "2021-01-05T14:20:09.440173Z",
     "iopub.status.idle": "2021-01-05T14:20:09.674713Z",
     "shell.execute_reply": "2021-01-05T14:20:09.674005Z"
    },
    "papermill": {
     "duration": 0.279223,
     "end_time": "2021-01-05T14:20:09.674829",
     "exception": false,
     "start_time": "2021-01-05T14:20:09.395606",
     "status": "completed"
    },
    "tags": []
   },
   "outputs": [],
   "source": [
    "df = df.query('item_price < 40000')"
   ]
  },
  {
   "cell_type": "markdown",
   "metadata": {
    "papermill": {
     "duration": 0.041936,
     "end_time": "2021-01-05T14:20:09.757735",
     "exception": false,
     "start_time": "2021-01-05T14:20:09.715799",
     "status": "completed"
    },
    "tags": []
   },
   "source": [
    "### Data Preprocessing\n",
    "* We will first take only the columns which we require.\n",
    "* Then we will sort the table according to the date column.\n",
    "* Next, we are asked to predict total sales for every product and store in the next month, and our data is given by day, so we aggregate the data by month."
   ]
  },
  {
   "cell_type": "code",
   "execution_count": 13,
   "metadata": {
    "execution": {
     "iopub.execute_input": "2021-01-05T14:20:09.889164Z",
     "iopub.status.busy": "2021-01-05T14:20:09.888408Z",
     "iopub.status.idle": "2021-01-05T14:20:11.953855Z",
     "shell.execute_reply": "2021-01-05T14:20:11.953248Z"
    },
    "papermill": {
     "duration": 2.154862,
     "end_time": "2021-01-05T14:20:11.953971",
     "exception": false,
     "start_time": "2021-01-05T14:20:09.799109",
     "status": "completed"
    },
    "tags": []
   },
   "outputs": [],
   "source": [
    "train_monthly = df[['date', 'date_block_num','shop_id', 'item_id', 'item_cnt_day']]\n",
    "train_monthly = train_monthly.sort_values('date').groupby(['date_block_num', 'shop_id', 'item_id'], as_index=False)\n",
    "train_monthly = train_monthly.agg({'item_cnt_day':['sum']})\n",
    "train_monthly.columns = ['date_block_num', 'shop_id', 'item_id', 'item_cnt']"
   ]
  },
  {
   "cell_type": "code",
   "execution_count": 14,
   "metadata": {
    "execution": {
     "iopub.execute_input": "2021-01-05T14:20:12.047024Z",
     "iopub.status.busy": "2021-01-05T14:20:12.046278Z",
     "iopub.status.idle": "2021-01-05T14:20:12.051101Z",
     "shell.execute_reply": "2021-01-05T14:20:12.051567Z"
    },
    "papermill": {
     "duration": 0.057158,
     "end_time": "2021-01-05T14:20:12.051728",
     "exception": false,
     "start_time": "2021-01-05T14:20:11.994570",
     "status": "completed"
    },
    "tags": []
   },
   "outputs": [
    {
     "data": {
      "text/html": [
       "<div>\n",
       "<style scoped>\n",
       "    .dataframe tbody tr th:only-of-type {\n",
       "        vertical-align: middle;\n",
       "    }\n",
       "\n",
       "    .dataframe tbody tr th {\n",
       "        vertical-align: top;\n",
       "    }\n",
       "\n",
       "    .dataframe thead th {\n",
       "        text-align: right;\n",
       "    }\n",
       "</style>\n",
       "<table border=\"1\" class=\"dataframe\">\n",
       "  <thead>\n",
       "    <tr style=\"text-align: right;\">\n",
       "      <th></th>\n",
       "      <th>date_block_num</th>\n",
       "      <th>shop_id</th>\n",
       "      <th>item_id</th>\n",
       "      <th>item_cnt</th>\n",
       "    </tr>\n",
       "  </thead>\n",
       "  <tbody>\n",
       "    <tr>\n",
       "      <th>0</th>\n",
       "      <td>0</td>\n",
       "      <td>0</td>\n",
       "      <td>32</td>\n",
       "      <td>6.0</td>\n",
       "    </tr>\n",
       "    <tr>\n",
       "      <th>1</th>\n",
       "      <td>0</td>\n",
       "      <td>0</td>\n",
       "      <td>33</td>\n",
       "      <td>3.0</td>\n",
       "    </tr>\n",
       "    <tr>\n",
       "      <th>2</th>\n",
       "      <td>0</td>\n",
       "      <td>0</td>\n",
       "      <td>35</td>\n",
       "      <td>1.0</td>\n",
       "    </tr>\n",
       "    <tr>\n",
       "      <th>3</th>\n",
       "      <td>0</td>\n",
       "      <td>0</td>\n",
       "      <td>43</td>\n",
       "      <td>1.0</td>\n",
       "    </tr>\n",
       "    <tr>\n",
       "      <th>4</th>\n",
       "      <td>0</td>\n",
       "      <td>0</td>\n",
       "      <td>51</td>\n",
       "      <td>2.0</td>\n",
       "    </tr>\n",
       "  </tbody>\n",
       "</table>\n",
       "</div>"
      ],
      "text/plain": [
       "   date_block_num  shop_id  item_id  item_cnt\n",
       "0               0        0       32       6.0\n",
       "1               0        0       33       3.0\n",
       "2               0        0       35       1.0\n",
       "3               0        0       43       1.0\n",
       "4               0        0       51       2.0"
      ]
     },
     "execution_count": 14,
     "metadata": {},
     "output_type": "execute_result"
    }
   ],
   "source": [
    "train_monthly.head()"
   ]
  },
  {
   "cell_type": "code",
   "execution_count": 15,
   "metadata": {
    "execution": {
     "iopub.execute_input": "2021-01-05T14:20:12.152566Z",
     "iopub.status.busy": "2021-01-05T14:20:12.146781Z",
     "iopub.status.idle": "2021-01-05T14:20:12.760013Z",
     "shell.execute_reply": "2021-01-05T14:20:12.759321Z"
    },
    "papermill": {
     "duration": 0.666276,
     "end_time": "2021-01-05T14:20:12.760156",
     "exception": false,
     "start_time": "2021-01-05T14:20:12.093880",
     "status": "completed"
    },
    "tags": []
   },
   "outputs": [
    {
     "data": {
      "image/png": "[encoded data removed]",
      "text/plain": [
       "<Figure size 720x432 with 1 Axes>"
      ]
     },
     "metadata": {},
     "output_type": "display_data"
    }
   ],
   "source": [
    "plt.figure(figsize=(10,6))\n",
    "sns.boxplot(train_monthly['item_cnt'])\n",
    "plt.show()"
   ]
  },
  {
   "cell_type": "code",
   "execution_count": 16,
   "metadata": {
    "execution": {
     "iopub.execute_input": "2021-01-05T14:20:12.860281Z",
     "iopub.status.busy": "2021-01-05T14:20:12.859567Z",
     "iopub.status.idle": "2021-01-05T14:20:12.940435Z",
     "shell.execute_reply": "2021-01-05T14:20:12.941494Z"
    },
    "papermill": {
     "duration": 0.128597,
     "end_time": "2021-01-05T14:20:12.941774",
     "exception": false,
     "start_time": "2021-01-05T14:20:12.813177",
     "status": "completed"
    },
    "tags": []
   },
   "outputs": [],
   "source": [
    "train_monthly = train_monthly.query('item_cnt >= 0 and item_cnt <= 20')"
   ]
  },
  {
   "cell_type": "code",
   "execution_count": 17,
   "metadata": {
    "execution": {
     "iopub.execute_input": "2021-01-05T14:20:13.058126Z",
     "iopub.status.busy": "2021-01-05T14:20:13.056860Z",
     "iopub.status.idle": "2021-01-05T14:20:13.080491Z",
     "shell.execute_reply": "2021-01-05T14:20:13.079513Z"
    },
    "papermill": {
     "duration": 0.072278,
     "end_time": "2021-01-05T14:20:13.080675",
     "exception": false,
     "start_time": "2021-01-05T14:20:13.008397",
     "status": "completed"
    },
    "tags": []
   },
   "outputs": [
    {
     "name": "stdout",
     "output_type": "stream",
     "text": [
      "<class 'pandas.core.frame.DataFrame'>\n",
      "Int64Index: 1596735 entries, 0 to 1609112\n",
      "Data columns (total 4 columns):\n",
      " #   Column          Non-Null Count    Dtype  \n",
      "---  ------          --------------    -----  \n",
      " 0   date_block_num  1596735 non-null  int64  \n",
      " 1   shop_id         1596735 non-null  int64  \n",
      " 2   item_id         1596735 non-null  int64  \n",
      " 3   item_cnt        1596735 non-null  float64\n",
      "dtypes: float64(1), int64(3)\n",
      "memory usage: 60.9 MB\n"
     ]
    }
   ],
   "source": [
    "train_monthly.info()"
   ]
  },
  {
   "cell_type": "markdown",
   "metadata": {
    "papermill": {
     "duration": 0.04214,
     "end_time": "2021-01-05T14:20:13.174452",
     "exception": false,
     "start_time": "2021-01-05T14:20:13.132312",
     "status": "completed"
    },
    "tags": []
   },
   "source": [
    "### Grouping data for EDA"
   ]
  },
  {
   "cell_type": "code",
   "execution_count": 18,
   "metadata": {
    "execution": {
     "iopub.execute_input": "2021-01-05T14:20:13.280357Z",
     "iopub.status.busy": "2021-01-05T14:20:13.279289Z",
     "iopub.status.idle": "2021-01-05T14:20:13.336856Z",
     "shell.execute_reply": "2021-01-05T14:20:13.336274Z"
    },
    "papermill": {
     "duration": 0.113536,
     "end_time": "2021-01-05T14:20:13.336988",
     "exception": false,
     "start_time": "2021-01-05T14:20:13.223452",
     "status": "completed"
    },
    "tags": []
   },
   "outputs": [],
   "source": [
    "month_mean = train_monthly.groupby(['date_block_num'], as_index=False)['item_cnt'].mean()\n",
    "shop_mean = train_monthly.groupby(['shop_id'], as_index=False)['item_cnt'].mean()"
   ]
  },
  {
   "cell_type": "code",
   "execution_count": 19,
   "metadata": {
    "execution": {
     "iopub.execute_input": "2021-01-05T14:20:13.441945Z",
     "iopub.status.busy": "2021-01-05T14:20:13.440865Z",
     "iopub.status.idle": "2021-01-05T14:20:13.744200Z",
     "shell.execute_reply": "2021-01-05T14:20:13.743590Z"
    },
    "papermill": {
     "duration": 0.363538,
     "end_time": "2021-01-05T14:20:13.744317",
     "exception": false,
     "start_time": "2021-01-05T14:20:13.380779",
     "status": "completed"
    },
    "tags": []
   },
   "outputs": [
    {
     "data": {
      "image/png": "[encoded data removed]",
      "text/plain": [
       "<Figure size 864x360 with 1 Axes>"
      ]
     },
     "metadata": {},
     "output_type": "display_data"
    }
   ],
   "source": [
    "fig =  plt.figure(figsize=(12, 5))\n",
    "sns.lineplot(x='date_block_num', y='item_cnt', data=month_mean)\n",
    "plt.title(\"Sales Behaviour over the time\", fontsize=15)\n",
    "plt.show()"
   ]
  },
  {
   "cell_type": "code",
   "execution_count": 20,
   "metadata": {
    "execution": {
     "iopub.execute_input": "2021-01-05T14:20:13.845779Z",
     "iopub.status.busy": "2021-01-05T14:20:13.840611Z",
     "iopub.status.idle": "2021-01-05T14:20:15.514024Z",
     "shell.execute_reply": "2021-01-05T14:20:15.513286Z"
    },
    "papermill": {
     "duration": 1.723759,
     "end_time": "2021-01-05T14:20:15.514159",
     "exception": false,
     "start_time": "2021-01-05T14:20:13.790400",
     "status": "completed"
    },
    "tags": []
   },
   "outputs": [
    {
     "data": {
      "image/png": "[encoded data removed]",
      "text/plain": [
       "<Figure size 1080x360 with 1 Axes>"
      ]
     },
     "metadata": {},
     "output_type": "display_data"
    }
   ],
   "source": [
    "fig =  plt.figure(figsize=(15, 5))\n",
    "sns.barplot(x='shop_id', y='item_cnt', data=shop_mean, palette=\"mako\")\n",
    "plt.title(\"Shops sale comparison\", fontsize=15)\n",
    "plt.show()"
   ]
  },
  {
   "cell_type": "markdown",
   "metadata": {
    "papermill": {
     "duration": 0.045137,
     "end_time": "2021-01-05T14:20:15.606715",
     "exception": false,
     "start_time": "2021-01-05T14:20:15.561578",
     "status": "completed"
    },
    "tags": []
   },
   "source": [
    "# Time-series processing\n",
    "* As we only need the \"item_cnt\" feature as a series, we can get that easily by just using a pivot operation.\n",
    "* This way we will also get the missing months from each \"shop_id\" and \"item_id\", and then replace them with 0."
   ]
  },
  {
   "cell_type": "code",
   "execution_count": 21,
   "metadata": {
    "execution": {
     "iopub.execute_input": "2021-01-05T14:20:15.710772Z",
     "iopub.status.busy": "2021-01-05T14:20:15.710025Z",
     "iopub.status.idle": "2021-01-05T14:20:18.768378Z",
     "shell.execute_reply": "2021-01-05T14:20:18.768865Z"
    },
    "papermill": {
     "duration": 3.117016,
     "end_time": "2021-01-05T14:20:18.769016",
     "exception": false,
     "start_time": "2021-01-05T14:20:15.652000",
     "status": "completed"
    },
    "tags": []
   },
   "outputs": [
    {
     "data": {
      "text/html": [
       "<div>\n",
       "<style scoped>\n",
       "    .dataframe tbody tr th:only-of-type {\n",
       "        vertical-align: middle;\n",
       "    }\n",
       "\n",
       "    .dataframe tbody tr th {\n",
       "        vertical-align: top;\n",
       "    }\n",
       "\n",
       "    .dataframe thead th {\n",
       "        text-align: right;\n",
       "    }\n",
       "</style>\n",
       "<table border=\"1\" class=\"dataframe\">\n",
       "  <thead>\n",
       "    <tr style=\"text-align: right;\">\n",
       "      <th>date_block_num</th>\n",
       "      <th>shop_id</th>\n",
       "      <th>item_id</th>\n",
       "      <th>0</th>\n",
       "      <th>1</th>\n",
       "      <th>2</th>\n",
       "      <th>3</th>\n",
       "      <th>4</th>\n",
       "      <th>5</th>\n",
       "      <th>6</th>\n",
       "      <th>7</th>\n",
       "      <th>...</th>\n",
       "      <th>24</th>\n",
       "      <th>25</th>\n",
       "      <th>26</th>\n",
       "      <th>27</th>\n",
       "      <th>28</th>\n",
       "      <th>29</th>\n",
       "      <th>30</th>\n",
       "      <th>31</th>\n",
       "      <th>32</th>\n",
       "      <th>33</th>\n",
       "    </tr>\n",
       "  </thead>\n",
       "  <tbody>\n",
       "    <tr>\n",
       "      <th>0</th>\n",
       "      <td>0</td>\n",
       "      <td>31</td>\n",
       "      <td>0</td>\n",
       "      <td>11</td>\n",
       "      <td>0</td>\n",
       "      <td>0</td>\n",
       "      <td>0</td>\n",
       "      <td>0</td>\n",
       "      <td>0</td>\n",
       "      <td>0</td>\n",
       "      <td>...</td>\n",
       "      <td>0</td>\n",
       "      <td>0</td>\n",
       "      <td>0</td>\n",
       "      <td>0</td>\n",
       "      <td>0</td>\n",
       "      <td>0</td>\n",
       "      <td>0</td>\n",
       "      <td>0</td>\n",
       "      <td>0</td>\n",
       "      <td>0</td>\n",
       "    </tr>\n",
       "    <tr>\n",
       "      <th>1</th>\n",
       "      <td>0</td>\n",
       "      <td>32</td>\n",
       "      <td>6</td>\n",
       "      <td>10</td>\n",
       "      <td>0</td>\n",
       "      <td>0</td>\n",
       "      <td>0</td>\n",
       "      <td>0</td>\n",
       "      <td>0</td>\n",
       "      <td>0</td>\n",
       "      <td>...</td>\n",
       "      <td>0</td>\n",
       "      <td>0</td>\n",
       "      <td>0</td>\n",
       "      <td>0</td>\n",
       "      <td>0</td>\n",
       "      <td>0</td>\n",
       "      <td>0</td>\n",
       "      <td>0</td>\n",
       "      <td>0</td>\n",
       "      <td>0</td>\n",
       "    </tr>\n",
       "    <tr>\n",
       "      <th>2</th>\n",
       "      <td>0</td>\n",
       "      <td>33</td>\n",
       "      <td>3</td>\n",
       "      <td>3</td>\n",
       "      <td>0</td>\n",
       "      <td>0</td>\n",
       "      <td>0</td>\n",
       "      <td>0</td>\n",
       "      <td>0</td>\n",
       "      <td>0</td>\n",
       "      <td>...</td>\n",
       "      <td>0</td>\n",
       "      <td>0</td>\n",
       "      <td>0</td>\n",
       "      <td>0</td>\n",
       "      <td>0</td>\n",
       "      <td>0</td>\n",
       "      <td>0</td>\n",
       "      <td>0</td>\n",
       "      <td>0</td>\n",
       "      <td>0</td>\n",
       "    </tr>\n",
       "    <tr>\n",
       "      <th>3</th>\n",
       "      <td>0</td>\n",
       "      <td>35</td>\n",
       "      <td>1</td>\n",
       "      <td>14</td>\n",
       "      <td>0</td>\n",
       "      <td>0</td>\n",
       "      <td>0</td>\n",
       "      <td>0</td>\n",
       "      <td>0</td>\n",
       "      <td>0</td>\n",
       "      <td>...</td>\n",
       "      <td>0</td>\n",
       "      <td>0</td>\n",
       "      <td>0</td>\n",
       "      <td>0</td>\n",
       "      <td>0</td>\n",
       "      <td>0</td>\n",
       "      <td>0</td>\n",
       "      <td>0</td>\n",
       "      <td>0</td>\n",
       "      <td>0</td>\n",
       "    </tr>\n",
       "    <tr>\n",
       "      <th>4</th>\n",
       "      <td>0</td>\n",
       "      <td>36</td>\n",
       "      <td>0</td>\n",
       "      <td>1</td>\n",
       "      <td>0</td>\n",
       "      <td>0</td>\n",
       "      <td>0</td>\n",
       "      <td>0</td>\n",
       "      <td>0</td>\n",
       "      <td>0</td>\n",
       "      <td>...</td>\n",
       "      <td>0</td>\n",
       "      <td>0</td>\n",
       "      <td>0</td>\n",
       "      <td>0</td>\n",
       "      <td>0</td>\n",
       "      <td>0</td>\n",
       "      <td>0</td>\n",
       "      <td>0</td>\n",
       "      <td>0</td>\n",
       "      <td>0</td>\n",
       "    </tr>\n",
       "  </tbody>\n",
       "</table>\n",
       "<p>5 rows × 36 columns</p>\n",
       "</div>"
      ],
      "text/plain": [
       "date_block_num  shop_id  item_id  0   1  2  3  4  5  6  7  ...  24  25  26  \\\n",
       "0                     0       31  0  11  0  0  0  0  0  0  ...   0   0   0   \n",
       "1                     0       32  6  10  0  0  0  0  0  0  ...   0   0   0   \n",
       "2                     0       33  3   3  0  0  0  0  0  0  ...   0   0   0   \n",
       "3                     0       35  1  14  0  0  0  0  0  0  ...   0   0   0   \n",
       "4                     0       36  0   1  0  0  0  0  0  0  ...   0   0   0   \n",
       "\n",
       "date_block_num  27  28  29  30  31  32  33  \n",
       "0                0   0   0   0   0   0   0  \n",
       "1                0   0   0   0   0   0   0  \n",
       "2                0   0   0   0   0   0   0  \n",
       "3                0   0   0   0   0   0   0  \n",
       "4                0   0   0   0   0   0   0  \n",
       "\n",
       "[5 rows x 36 columns]"
      ]
     },
     "execution_count": 21,
     "metadata": {},
     "output_type": "execute_result"
    }
   ],
   "source": [
    "monthly_series = train_monthly.pivot_table(index=['shop_id', 'item_id'], columns = 'date_block_num', values='item_cnt', fill_value=0).reset_index()\n",
    "monthly_series.head()"
   ]
  },
  {
   "cell_type": "markdown",
   "metadata": {
    "papermill": {
     "duration": 0.045903,
     "end_time": "2021-01-05T14:20:18.861069",
     "exception": false,
     "start_time": "2021-01-05T14:20:18.815166",
     "status": "completed"
    },
    "tags": []
   },
   "source": [
    "Next, we will merge with our test data so that the model performs well on test dataset. "
   ]
  },
  {
   "cell_type": "code",
   "execution_count": 22,
   "metadata": {
    "execution": {
     "iopub.execute_input": "2021-01-05T14:20:18.958953Z",
     "iopub.status.busy": "2021-01-05T14:20:18.958262Z",
     "iopub.status.idle": "2021-01-05T14:20:19.324790Z",
     "shell.execute_reply": "2021-01-05T14:20:19.324047Z"
    },
    "papermill": {
     "duration": 0.41571,
     "end_time": "2021-01-05T14:20:19.324918",
     "exception": false,
     "start_time": "2021-01-05T14:20:18.909208",
     "status": "completed"
    },
    "tags": []
   },
   "outputs": [],
   "source": [
    "data = pd.merge(test, monthly_series, on=['item_id', 'shop_id'], how='left')\n",
    "data.fillna(0, inplace=True)\n",
    "data.drop(['shop_id', 'item_id', 'ID'], inplace=True, axis=1)"
   ]
  },
  {
   "cell_type": "code",
   "execution_count": 23,
   "metadata": {
    "execution": {
     "iopub.execute_input": "2021-01-05T14:20:19.452537Z",
     "iopub.status.busy": "2021-01-05T14:20:19.451872Z",
     "iopub.status.idle": "2021-01-05T14:20:19.455498Z",
     "shell.execute_reply": "2021-01-05T14:20:19.454986Z"
    },
    "papermill": {
     "duration": 0.079768,
     "end_time": "2021-01-05T14:20:19.455615",
     "exception": false,
     "start_time": "2021-01-05T14:20:19.375847",
     "status": "completed"
    },
    "tags": []
   },
   "outputs": [
    {
     "data": {
      "text/html": [
       "<div>\n",
       "<style scoped>\n",
       "    .dataframe tbody tr th:only-of-type {\n",
       "        vertical-align: middle;\n",
       "    }\n",
       "\n",
       "    .dataframe tbody tr th {\n",
       "        vertical-align: top;\n",
       "    }\n",
       "\n",
       "    .dataframe thead th {\n",
       "        text-align: right;\n",
       "    }\n",
       "</style>\n",
       "<table border=\"1\" class=\"dataframe\">\n",
       "  <thead>\n",
       "    <tr style=\"text-align: right;\">\n",
       "      <th></th>\n",
       "      <th>0</th>\n",
       "      <th>1</th>\n",
       "      <th>2</th>\n",
       "      <th>3</th>\n",
       "      <th>4</th>\n",
       "      <th>5</th>\n",
       "      <th>6</th>\n",
       "      <th>7</th>\n",
       "      <th>8</th>\n",
       "      <th>9</th>\n",
       "      <th>...</th>\n",
       "      <th>24</th>\n",
       "      <th>25</th>\n",
       "      <th>26</th>\n",
       "      <th>27</th>\n",
       "      <th>28</th>\n",
       "      <th>29</th>\n",
       "      <th>30</th>\n",
       "      <th>31</th>\n",
       "      <th>32</th>\n",
       "      <th>33</th>\n",
       "    </tr>\n",
       "  </thead>\n",
       "  <tbody>\n",
       "    <tr>\n",
       "      <th>0</th>\n",
       "      <td>0.0</td>\n",
       "      <td>0.0</td>\n",
       "      <td>0.0</td>\n",
       "      <td>0.0</td>\n",
       "      <td>0.0</td>\n",
       "      <td>0.0</td>\n",
       "      <td>0.0</td>\n",
       "      <td>0.0</td>\n",
       "      <td>0.0</td>\n",
       "      <td>0.0</td>\n",
       "      <td>...</td>\n",
       "      <td>2.0</td>\n",
       "      <td>0.0</td>\n",
       "      <td>0.0</td>\n",
       "      <td>0.0</td>\n",
       "      <td>1.0</td>\n",
       "      <td>1.0</td>\n",
       "      <td>1.0</td>\n",
       "      <td>3.0</td>\n",
       "      <td>1.0</td>\n",
       "      <td>0.0</td>\n",
       "    </tr>\n",
       "    <tr>\n",
       "      <th>1</th>\n",
       "      <td>0.0</td>\n",
       "      <td>0.0</td>\n",
       "      <td>0.0</td>\n",
       "      <td>0.0</td>\n",
       "      <td>0.0</td>\n",
       "      <td>0.0</td>\n",
       "      <td>0.0</td>\n",
       "      <td>0.0</td>\n",
       "      <td>0.0</td>\n",
       "      <td>0.0</td>\n",
       "      <td>...</td>\n",
       "      <td>0.0</td>\n",
       "      <td>0.0</td>\n",
       "      <td>0.0</td>\n",
       "      <td>0.0</td>\n",
       "      <td>0.0</td>\n",
       "      <td>0.0</td>\n",
       "      <td>0.0</td>\n",
       "      <td>0.0</td>\n",
       "      <td>0.0</td>\n",
       "      <td>0.0</td>\n",
       "    </tr>\n",
       "    <tr>\n",
       "      <th>2</th>\n",
       "      <td>0.0</td>\n",
       "      <td>0.0</td>\n",
       "      <td>0.0</td>\n",
       "      <td>0.0</td>\n",
       "      <td>0.0</td>\n",
       "      <td>0.0</td>\n",
       "      <td>0.0</td>\n",
       "      <td>0.0</td>\n",
       "      <td>0.0</td>\n",
       "      <td>0.0</td>\n",
       "      <td>...</td>\n",
       "      <td>0.0</td>\n",
       "      <td>0.0</td>\n",
       "      <td>0.0</td>\n",
       "      <td>0.0</td>\n",
       "      <td>3.0</td>\n",
       "      <td>2.0</td>\n",
       "      <td>0.0</td>\n",
       "      <td>1.0</td>\n",
       "      <td>3.0</td>\n",
       "      <td>1.0</td>\n",
       "    </tr>\n",
       "    <tr>\n",
       "      <th>3</th>\n",
       "      <td>0.0</td>\n",
       "      <td>0.0</td>\n",
       "      <td>0.0</td>\n",
       "      <td>0.0</td>\n",
       "      <td>0.0</td>\n",
       "      <td>0.0</td>\n",
       "      <td>0.0</td>\n",
       "      <td>0.0</td>\n",
       "      <td>0.0</td>\n",
       "      <td>0.0</td>\n",
       "      <td>...</td>\n",
       "      <td>0.0</td>\n",
       "      <td>0.0</td>\n",
       "      <td>0.0</td>\n",
       "      <td>0.0</td>\n",
       "      <td>0.0</td>\n",
       "      <td>0.0</td>\n",
       "      <td>0.0</td>\n",
       "      <td>1.0</td>\n",
       "      <td>0.0</td>\n",
       "      <td>0.0</td>\n",
       "    </tr>\n",
       "    <tr>\n",
       "      <th>4</th>\n",
       "      <td>0.0</td>\n",
       "      <td>0.0</td>\n",
       "      <td>0.0</td>\n",
       "      <td>0.0</td>\n",
       "      <td>0.0</td>\n",
       "      <td>0.0</td>\n",
       "      <td>0.0</td>\n",
       "      <td>0.0</td>\n",
       "      <td>0.0</td>\n",
       "      <td>0.0</td>\n",
       "      <td>...</td>\n",
       "      <td>0.0</td>\n",
       "      <td>0.0</td>\n",
       "      <td>0.0</td>\n",
       "      <td>0.0</td>\n",
       "      <td>0.0</td>\n",
       "      <td>0.0</td>\n",
       "      <td>0.0</td>\n",
       "      <td>0.0</td>\n",
       "      <td>0.0</td>\n",
       "      <td>0.0</td>\n",
       "    </tr>\n",
       "  </tbody>\n",
       "</table>\n",
       "<p>5 rows × 34 columns</p>\n",
       "</div>"
      ],
      "text/plain": [
       "    0    1    2    3    4    5    6    7    8    9   ...   24   25   26   27  \\\n",
       "0  0.0  0.0  0.0  0.0  0.0  0.0  0.0  0.0  0.0  0.0  ...  2.0  0.0  0.0  0.0   \n",
       "1  0.0  0.0  0.0  0.0  0.0  0.0  0.0  0.0  0.0  0.0  ...  0.0  0.0  0.0  0.0   \n",
       "2  0.0  0.0  0.0  0.0  0.0  0.0  0.0  0.0  0.0  0.0  ...  0.0  0.0  0.0  0.0   \n",
       "3  0.0  0.0  0.0  0.0  0.0  0.0  0.0  0.0  0.0  0.0  ...  0.0  0.0  0.0  0.0   \n",
       "4  0.0  0.0  0.0  0.0  0.0  0.0  0.0  0.0  0.0  0.0  ...  0.0  0.0  0.0  0.0   \n",
       "\n",
       "    28   29   30   31   32   33  \n",
       "0  1.0  1.0  1.0  3.0  1.0  0.0  \n",
       "1  0.0  0.0  0.0  0.0  0.0  0.0  \n",
       "2  3.0  2.0  0.0  1.0  3.0  1.0  \n",
       "3  0.0  0.0  0.0  1.0  0.0  0.0  \n",
       "4  0.0  0.0  0.0  0.0  0.0  0.0  \n",
       "\n",
       "[5 rows x 34 columns]"
      ]
     },
     "execution_count": 23,
     "metadata": {},
     "output_type": "execute_result"
    }
   ],
   "source": [
    "data.head()"
   ]
  },
  {
   "cell_type": "markdown",
   "metadata": {
    "papermill": {
     "duration": 0.047752,
     "end_time": "2021-01-05T14:20:19.550573",
     "exception": false,
     "start_time": "2021-01-05T14:20:19.502821",
     "status": "completed"
    },
    "tags": []
   },
   "source": [
    "Then, for the value of X we will keep all the columns except the last one as we have to predict that column.<br> So the y will be the last column."
   ]
  },
  {
   "cell_type": "code",
   "execution_count": 24,
   "metadata": {
    "execution": {
     "iopub.execute_input": "2021-01-05T14:20:19.651384Z",
     "iopub.status.busy": "2021-01-05T14:20:19.650680Z",
     "iopub.status.idle": "2021-01-05T14:20:19.654389Z",
     "shell.execute_reply": "2021-01-05T14:20:19.654913Z"
    },
    "papermill": {
     "duration": 0.057167,
     "end_time": "2021-01-05T14:20:19.655052",
     "exception": false,
     "start_time": "2021-01-05T14:20:19.597885",
     "status": "completed"
    },
    "tags": []
   },
   "outputs": [
    {
     "data": {
      "text/plain": [
       "(214200, 33)"
      ]
     },
     "execution_count": 24,
     "metadata": {},
     "output_type": "execute_result"
    }
   ],
   "source": [
    "X = data.iloc[:,:-1]\n",
    "X.shape"
   ]
  },
  {
   "cell_type": "code",
   "execution_count": 25,
   "metadata": {
    "execution": {
     "iopub.execute_input": "2021-01-05T14:20:19.755111Z",
     "iopub.status.busy": "2021-01-05T14:20:19.754371Z",
     "iopub.status.idle": "2021-01-05T14:20:19.760737Z",
     "shell.execute_reply": "2021-01-05T14:20:19.761404Z"
    },
    "papermill": {
     "duration": 0.058587,
     "end_time": "2021-01-05T14:20:19.761550",
     "exception": false,
     "start_time": "2021-01-05T14:20:19.702963",
     "status": "completed"
    },
    "tags": []
   },
   "outputs": [
    {
     "data": {
      "text/plain": [
       "(214200, 1)"
      ]
     },
     "execution_count": 25,
     "metadata": {},
     "output_type": "execute_result"
    }
   ],
   "source": [
    "y = data.iloc[:,-1:]\n",
    "y.shape"
   ]
  },
  {
   "cell_type": "code",
   "execution_count": 26,
   "metadata": {
    "execution": {
     "iopub.execute_input": "2021-01-05T14:20:19.886344Z",
     "iopub.status.busy": "2021-01-05T14:20:19.873496Z",
     "iopub.status.idle": "2021-01-05T14:20:19.891023Z",
     "shell.execute_reply": "2021-01-05T14:20:19.890410Z"
    },
    "papermill": {
     "duration": 0.080987,
     "end_time": "2021-01-05T14:20:19.891147",
     "exception": false,
     "start_time": "2021-01-05T14:20:19.810160",
     "status": "completed"
    },
    "tags": []
   },
   "outputs": [
    {
     "data": {
      "text/html": [
       "<div>\n",
       "<style scoped>\n",
       "    .dataframe tbody tr th:only-of-type {\n",
       "        vertical-align: middle;\n",
       "    }\n",
       "\n",
       "    .dataframe tbody tr th {\n",
       "        vertical-align: top;\n",
       "    }\n",
       "\n",
       "    .dataframe thead th {\n",
       "        text-align: right;\n",
       "    }\n",
       "</style>\n",
       "<table border=\"1\" class=\"dataframe\">\n",
       "  <thead>\n",
       "    <tr style=\"text-align: right;\">\n",
       "      <th></th>\n",
       "      <th>0</th>\n",
       "      <th>1</th>\n",
       "      <th>2</th>\n",
       "      <th>3</th>\n",
       "      <th>4</th>\n",
       "      <th>5</th>\n",
       "      <th>6</th>\n",
       "      <th>7</th>\n",
       "      <th>8</th>\n",
       "      <th>9</th>\n",
       "      <th>...</th>\n",
       "      <th>23</th>\n",
       "      <th>24</th>\n",
       "      <th>25</th>\n",
       "      <th>26</th>\n",
       "      <th>27</th>\n",
       "      <th>28</th>\n",
       "      <th>29</th>\n",
       "      <th>30</th>\n",
       "      <th>31</th>\n",
       "      <th>32</th>\n",
       "    </tr>\n",
       "  </thead>\n",
       "  <tbody>\n",
       "    <tr>\n",
       "      <th>0</th>\n",
       "      <td>0.0</td>\n",
       "      <td>0.0</td>\n",
       "      <td>0.0</td>\n",
       "      <td>0.0</td>\n",
       "      <td>0.0</td>\n",
       "      <td>0.0</td>\n",
       "      <td>0.0</td>\n",
       "      <td>0.0</td>\n",
       "      <td>0.0</td>\n",
       "      <td>0.0</td>\n",
       "      <td>...</td>\n",
       "      <td>2.0</td>\n",
       "      <td>2.0</td>\n",
       "      <td>0.0</td>\n",
       "      <td>0.0</td>\n",
       "      <td>0.0</td>\n",
       "      <td>1.0</td>\n",
       "      <td>1.0</td>\n",
       "      <td>1.0</td>\n",
       "      <td>3.0</td>\n",
       "      <td>1.0</td>\n",
       "    </tr>\n",
       "    <tr>\n",
       "      <th>1</th>\n",
       "      <td>0.0</td>\n",
       "      <td>0.0</td>\n",
       "      <td>0.0</td>\n",
       "      <td>0.0</td>\n",
       "      <td>0.0</td>\n",
       "      <td>0.0</td>\n",
       "      <td>0.0</td>\n",
       "      <td>0.0</td>\n",
       "      <td>0.0</td>\n",
       "      <td>0.0</td>\n",
       "      <td>...</td>\n",
       "      <td>0.0</td>\n",
       "      <td>0.0</td>\n",
       "      <td>0.0</td>\n",
       "      <td>0.0</td>\n",
       "      <td>0.0</td>\n",
       "      <td>0.0</td>\n",
       "      <td>0.0</td>\n",
       "      <td>0.0</td>\n",
       "      <td>0.0</td>\n",
       "      <td>0.0</td>\n",
       "    </tr>\n",
       "    <tr>\n",
       "      <th>2</th>\n",
       "      <td>0.0</td>\n",
       "      <td>0.0</td>\n",
       "      <td>0.0</td>\n",
       "      <td>0.0</td>\n",
       "      <td>0.0</td>\n",
       "      <td>0.0</td>\n",
       "      <td>0.0</td>\n",
       "      <td>0.0</td>\n",
       "      <td>0.0</td>\n",
       "      <td>0.0</td>\n",
       "      <td>...</td>\n",
       "      <td>0.0</td>\n",
       "      <td>0.0</td>\n",
       "      <td>0.0</td>\n",
       "      <td>0.0</td>\n",
       "      <td>0.0</td>\n",
       "      <td>3.0</td>\n",
       "      <td>2.0</td>\n",
       "      <td>0.0</td>\n",
       "      <td>1.0</td>\n",
       "      <td>3.0</td>\n",
       "    </tr>\n",
       "    <tr>\n",
       "      <th>3</th>\n",
       "      <td>0.0</td>\n",
       "      <td>0.0</td>\n",
       "      <td>0.0</td>\n",
       "      <td>0.0</td>\n",
       "      <td>0.0</td>\n",
       "      <td>0.0</td>\n",
       "      <td>0.0</td>\n",
       "      <td>0.0</td>\n",
       "      <td>0.0</td>\n",
       "      <td>0.0</td>\n",
       "      <td>...</td>\n",
       "      <td>0.0</td>\n",
       "      <td>0.0</td>\n",
       "      <td>0.0</td>\n",
       "      <td>0.0</td>\n",
       "      <td>0.0</td>\n",
       "      <td>0.0</td>\n",
       "      <td>0.0</td>\n",
       "      <td>0.0</td>\n",
       "      <td>1.0</td>\n",
       "      <td>0.0</td>\n",
       "    </tr>\n",
       "    <tr>\n",
       "      <th>4</th>\n",
       "      <td>0.0</td>\n",
       "      <td>0.0</td>\n",
       "      <td>0.0</td>\n",
       "      <td>0.0</td>\n",
       "      <td>0.0</td>\n",
       "      <td>0.0</td>\n",
       "      <td>0.0</td>\n",
       "      <td>0.0</td>\n",
       "      <td>0.0</td>\n",
       "      <td>0.0</td>\n",
       "      <td>...</td>\n",
       "      <td>0.0</td>\n",
       "      <td>0.0</td>\n",
       "      <td>0.0</td>\n",
       "      <td>0.0</td>\n",
       "      <td>0.0</td>\n",
       "      <td>0.0</td>\n",
       "      <td>0.0</td>\n",
       "      <td>0.0</td>\n",
       "      <td>0.0</td>\n",
       "      <td>0.0</td>\n",
       "    </tr>\n",
       "  </tbody>\n",
       "</table>\n",
       "<p>5 rows × 33 columns</p>\n",
       "</div>"
      ],
      "text/plain": [
       "    0    1    2    3    4    5    6    7    8    9   ...   23   24   25   26  \\\n",
       "0  0.0  0.0  0.0  0.0  0.0  0.0  0.0  0.0  0.0  0.0  ...  2.0  2.0  0.0  0.0   \n",
       "1  0.0  0.0  0.0  0.0  0.0  0.0  0.0  0.0  0.0  0.0  ...  0.0  0.0  0.0  0.0   \n",
       "2  0.0  0.0  0.0  0.0  0.0  0.0  0.0  0.0  0.0  0.0  ...  0.0  0.0  0.0  0.0   \n",
       "3  0.0  0.0  0.0  0.0  0.0  0.0  0.0  0.0  0.0  0.0  ...  0.0  0.0  0.0  0.0   \n",
       "4  0.0  0.0  0.0  0.0  0.0  0.0  0.0  0.0  0.0  0.0  ...  0.0  0.0  0.0  0.0   \n",
       "\n",
       "    27   28   29   30   31   32  \n",
       "0  0.0  1.0  1.0  1.0  3.0  1.0  \n",
       "1  0.0  0.0  0.0  0.0  0.0  0.0  \n",
       "2  0.0  3.0  2.0  0.0  1.0  3.0  \n",
       "3  0.0  0.0  0.0  0.0  1.0  0.0  \n",
       "4  0.0  0.0  0.0  0.0  0.0  0.0  \n",
       "\n",
       "[5 rows x 33 columns]"
      ]
     },
     "execution_count": 26,
     "metadata": {},
     "output_type": "execute_result"
    }
   ],
   "source": [
    "X.head()"
   ]
  },
  {
   "cell_type": "markdown",
   "metadata": {
    "papermill": {
     "duration": 0.049918,
     "end_time": "2021-01-05T14:20:19.994488",
     "exception": false,
     "start_time": "2021-01-05T14:20:19.944570",
     "status": "completed"
    },
    "tags": []
   },
   "source": [
    "Lastly, we reshape our data in this form:- <br>\n",
    "Time-series shape - (data points, time-steps, features)."
   ]
  },
  {
   "cell_type": "code",
   "execution_count": 27,
   "metadata": {
    "execution": {
     "iopub.execute_input": "2021-01-05T14:20:20.095419Z",
     "iopub.status.busy": "2021-01-05T14:20:20.094754Z",
     "iopub.status.idle": "2021-01-05T14:20:20.099895Z",
     "shell.execute_reply": "2021-01-05T14:20:20.100606Z"
    },
    "papermill": {
     "duration": 0.057565,
     "end_time": "2021-01-05T14:20:20.100784",
     "exception": false,
     "start_time": "2021-01-05T14:20:20.043219",
     "status": "completed"
    },
    "tags": []
   },
   "outputs": [],
   "source": [
    "X  = X.values.reshape(X.shape[0], X.shape[1], 1)"
   ]
  },
  {
   "cell_type": "markdown",
   "metadata": {
    "papermill": {
     "duration": 0.048092,
     "end_time": "2021-01-05T14:20:20.197476",
     "exception": false,
     "start_time": "2021-01-05T14:20:20.149384",
     "status": "completed"
    },
    "tags": []
   },
   "source": [
    "# Model"
   ]
  },
  {
   "cell_type": "markdown",
   "metadata": {
    "papermill": {
     "duration": 0.048588,
     "end_time": "2021-01-05T14:20:20.295051",
     "exception": false,
     "start_time": "2021-01-05T14:20:20.246463",
     "status": "completed"
    },
    "tags": []
   },
   "source": [
    "## LSTM Model\n",
    "First we will begin with a regular LSTM Model."
   ]
  },
  {
   "cell_type": "code",
   "execution_count": 28,
   "metadata": {
    "execution": {
     "iopub.execute_input": "2021-01-05T14:20:20.395645Z",
     "iopub.status.busy": "2021-01-05T14:20:20.394912Z",
     "iopub.status.idle": "2021-01-05T14:20:21.079997Z",
     "shell.execute_reply": "2021-01-05T14:20:21.080582Z"
    },
    "papermill": {
     "duration": 0.737201,
     "end_time": "2021-01-05T14:20:21.080774",
     "exception": false,
     "start_time": "2021-01-05T14:20:20.343573",
     "status": "completed"
    },
    "tags": []
   },
   "outputs": [],
   "source": [
    "model = Sequential()\n",
    "model.add(LSTM(64, input_shape=(X.shape[1], X.shape[2]), return_sequences=True))\n",
    "model.add(LSTM(32, activation='relu', return_sequences=True))\n",
    "model.add(LSTM(4, activation='relu', return_sequences=True))\n",
    "model.add(LSTM(1, activation='relu'))\n",
    "model.add(Dense(10, activation='relu'))\n",
    "model.add(Dense(10, activation='relu'))\n",
    "model.add(Dropout(0.2))\n",
    "model.add(Dense(1))"
   ]
  },
  {
   "cell_type": "code",
   "execution_count": 29,
   "metadata": {
    "execution": {
     "iopub.execute_input": "2021-01-05T14:20:21.184259Z",
     "iopub.status.busy": "2021-01-05T14:20:21.182553Z",
     "iopub.status.idle": "2021-01-05T14:20:21.191560Z",
     "shell.execute_reply": "2021-01-05T14:20:21.190645Z"
    },
    "papermill": {
     "duration": 0.0624,
     "end_time": "2021-01-05T14:20:21.191751",
     "exception": false,
     "start_time": "2021-01-05T14:20:21.129351",
     "status": "completed"
    },
    "tags": []
   },
   "outputs": [
    {
     "name": "stdout",
     "output_type": "stream",
     "text": [
      "Model: \"sequential\"\n",
      "_________________________________________________________________\n",
      "Layer (type)                 Output Shape              Param #   \n",
      "=================================================================\n",
      "lstm (LSTM)                  (None, 33, 64)            16896     \n",
      "_________________________________________________________________\n",
      "lstm_1 (LSTM)                (None, 33, 32)            12416     \n",
      "_________________________________________________________________\n",
      "lstm_2 (LSTM)                (None, 33, 4)             592       \n",
      "_________________________________________________________________\n",
      "lstm_3 (LSTM)                (None, 1)                 24        \n",
      "_________________________________________________________________\n",
      "dense (Dense)                (None, 10)                20        \n",
      "_________________________________________________________________\n",
      "dense_1 (Dense)              (None, 10)                110       \n",
      "_________________________________________________________________\n",
      "dropout (Dropout)            (None, 10)                0         \n",
      "_________________________________________________________________\n",
      "dense_2 (Dense)              (None, 1)                 11        \n",
      "=================================================================\n",
      "Total params: 30,069\n",
      "Trainable params: 30,069\n",
      "Non-trainable params: 0\n",
      "_________________________________________________________________\n"
     ]
    }
   ],
   "source": [
    "model.summary()"
   ]
  },
  {
   "cell_type": "code",
   "execution_count": 30,
   "metadata": {
    "execution": {
     "iopub.execute_input": "2021-01-05T14:20:21.306061Z",
     "iopub.status.busy": "2021-01-05T14:20:21.305025Z",
     "iopub.status.idle": "2021-01-05T14:20:21.312007Z",
     "shell.execute_reply": "2021-01-05T14:20:21.311458Z"
    },
    "papermill": {
     "duration": 0.070524,
     "end_time": "2021-01-05T14:20:21.312121",
     "exception": false,
     "start_time": "2021-01-05T14:20:21.241597",
     "status": "completed"
    },
    "tags": []
   },
   "outputs": [],
   "source": [
    "model.compile(optimizer='Adam', loss='mse', metrics=['mean_squared_error'])"
   ]
  },
  {
   "cell_type": "code",
   "execution_count": 31,
   "metadata": {
    "execution": {
     "iopub.execute_input": "2021-01-05T14:20:21.416972Z",
     "iopub.status.busy": "2021-01-05T14:20:21.416014Z",
     "iopub.status.idle": "2021-01-05T14:35:10.710276Z",
     "shell.execute_reply": "2021-01-05T14:35:10.709597Z"
    },
    "papermill": {
     "duration": 889.348662,
     "end_time": "2021-01-05T14:35:10.710418",
     "exception": false,
     "start_time": "2021-01-05T14:20:21.361756",
     "status": "completed"
    },
    "tags": []
   },
   "outputs": [
    {
     "name": "stdout",
     "output_type": "stream",
     "text": [
      "Epoch 1/5\n",
      "3347/3347 [==============================] - 173s 52ms/step - loss: 0.7068 - mean_squared_error: 0.7068\n",
      "Epoch 2/5\n",
      "3347/3347 [==============================] - 178s 53ms/step - loss: 0.6542 - mean_squared_error: 0.6542\n",
      "Epoch 3/5\n",
      "3347/3347 [==============================] - 178s 53ms/step - loss: 0.6575 - mean_squared_error: 0.6575\n",
      "Epoch 4/5\n",
      "3347/3347 [==============================] - 179s 53ms/step - loss: 0.6555 - mean_squared_error: 0.6555\n",
      "Epoch 5/5\n",
      "3347/3347 [==============================] - 177s 53ms/step - loss: 0.6520 - mean_squared_error: 0.6520\n"
     ]
    },
    {
     "data": {
      "text/plain": [
       "<tensorflow.python.keras.callbacks.History at 0x7fae45d63f50>"
      ]
     },
     "execution_count": 31,
     "metadata": {},
     "output_type": "execute_result"
    }
   ],
   "source": [
    "model.fit(X, y, batch_size=64, epochs=5)"
   ]
  },
  {
   "cell_type": "markdown",
   "metadata": {
    "papermill": {
     "duration": 4.581356,
     "end_time": "2021-01-05T14:35:19.962531",
     "exception": false,
     "start_time": "2021-01-05T14:35:15.381175",
     "status": "completed"
    },
    "tags": []
   },
   "source": [
    "## LSTM Autoencoder\n",
    "* Now we will build an autoencoder. \n",
    "* Autoencoders are a type of self-supervised learning model that can learn a compressed representation of input data. The structural representation is shown below. <br>\n",
    "<img src = \"https://stackabuse.s3.amazonaws.com/media/image-reconstruction-and-denoising-with-autoencoders-in-python-and-keras-3.png\" style = \"height:20em\"></img>\n",
    "* The design of the autoencoder model purposefully makes this challenging by restricting the architecture to a bottleneck at the midpoint of the model, from which the reconstruction of the input data is performed.\n",
    "* Here I have built a LSTM autoencoder. A LSTM Autoencoder is an implementation of an autoencoder for sequence data using an Encoder-Decoder LSTM architecture.\n",
    "* For a given dataset of sequences, an encoder-decoder LSTM is configured to read the input sequence, encode it, decode it, and recreate it.\n",
    "* After the models is trained we can keep only the encoder part and we'll have a model that is able to do what we want."
   ]
  },
  {
   "cell_type": "code",
   "execution_count": 32,
   "metadata": {
    "execution": {
     "iopub.execute_input": "2021-01-05T14:35:29.270485Z",
     "iopub.status.busy": "2021-01-05T14:35:29.269379Z",
     "iopub.status.idle": "2021-01-05T14:35:29.877160Z",
     "shell.execute_reply": "2021-01-05T14:35:29.876470Z"
    },
    "papermill": {
     "duration": 5.144472,
     "end_time": "2021-01-05T14:35:29.877336",
     "exception": false,
     "start_time": "2021-01-05T14:35:24.732864",
     "status": "completed"
    },
    "tags": []
   },
   "outputs": [],
   "source": [
    "model2 = Sequential()\n",
    "model2.add(LSTM(X.shape[1], activation='relu', input_shape=(X.shape[1], X.shape[2]), return_sequences=True))\n",
    "model2.add(LSTM(32, activation='relu', return_sequences=True))\n",
    "model2.add(LSTM(16, activation='relu', return_sequences=True))\n",
    "model2.add(LSTM(6, activation='relu', return_sequences=True))\n",
    "model2.add(LSTM(1, activation='relu'))\n",
    "model2.add(RepeatVector(X.shape[1]))\n",
    "model2.add(LSTM(X.shape[1], activation='relu', return_sequences=True))\n",
    "model2.add(LSTM(32, activation='relu', return_sequences=True))\n",
    "model2.add(LSTM(16, activation='relu', return_sequences=True))\n",
    "model2.add(LSTM(6, activation='relu', return_sequences=True))\n",
    "model2.add(TimeDistributed(Dense(1)))"
   ]
  },
  {
   "cell_type": "code",
   "execution_count": 33,
   "metadata": {
    "execution": {
     "iopub.execute_input": "2021-01-05T14:35:39.010434Z",
     "iopub.status.busy": "2021-01-05T14:35:39.009727Z",
     "iopub.status.idle": "2021-01-05T14:35:39.024907Z",
     "shell.execute_reply": "2021-01-05T14:35:39.023986Z"
    },
    "papermill": {
     "duration": 4.593346,
     "end_time": "2021-01-05T14:35:39.025115",
     "exception": false,
     "start_time": "2021-01-05T14:35:34.431769",
     "status": "completed"
    },
    "tags": []
   },
   "outputs": [
    {
     "name": "stdout",
     "output_type": "stream",
     "text": [
      "Model: \"sequential_1\"\n",
      "_________________________________________________________________\n",
      "Layer (type)                 Output Shape              Param #   \n",
      "=================================================================\n",
      "lstm_4 (LSTM)                (None, 33, 33)            4620      \n",
      "_________________________________________________________________\n",
      "lstm_5 (LSTM)                (None, 33, 32)            8448      \n",
      "_________________________________________________________________\n",
      "lstm_6 (LSTM)                (None, 33, 16)            3136      \n",
      "_________________________________________________________________\n",
      "lstm_7 (LSTM)                (None, 33, 6)             552       \n",
      "_________________________________________________________________\n",
      "lstm_8 (LSTM)                (None, 1)                 32        \n",
      "_________________________________________________________________\n",
      "repeat_vector (RepeatVector) (None, 33, 1)             0         \n",
      "_________________________________________________________________\n",
      "lstm_9 (LSTM)                (None, 33, 33)            4620      \n",
      "_________________________________________________________________\n",
      "lstm_10 (LSTM)               (None, 33, 32)            8448      \n",
      "_________________________________________________________________\n",
      "lstm_11 (LSTM)               (None, 33, 16)            3136      \n",
      "_________________________________________________________________\n",
      "lstm_12 (LSTM)               (None, 33, 6)             552       \n",
      "_________________________________________________________________\n",
      "time_distributed (TimeDistri (None, 33, 1)             7         \n",
      "=================================================================\n",
      "Total params: 33,551\n",
      "Trainable params: 33,551\n",
      "Non-trainable params: 0\n",
      "_________________________________________________________________\n"
     ]
    }
   ],
   "source": [
    "model2.summary()"
   ]
  },
  {
   "cell_type": "code",
   "execution_count": 34,
   "metadata": {
    "execution": {
     "iopub.execute_input": "2021-01-05T14:35:48.162274Z",
     "iopub.status.busy": "2021-01-05T14:35:48.161539Z",
     "iopub.status.idle": "2021-01-05T14:35:48.167289Z",
     "shell.execute_reply": "2021-01-05T14:35:48.166498Z"
    },
    "papermill": {
     "duration": 4.633684,
     "end_time": "2021-01-05T14:35:48.167409",
     "exception": false,
     "start_time": "2021-01-05T14:35:43.533725",
     "status": "completed"
    },
    "tags": []
   },
   "outputs": [],
   "source": [
    "model2.compile(optimizer='Adam', loss='mse', metrics=['mean_squared_error'])"
   ]
  },
  {
   "cell_type": "code",
   "execution_count": 35,
   "metadata": {
    "execution": {
     "iopub.execute_input": "2021-01-05T14:35:57.299213Z",
     "iopub.status.busy": "2021-01-05T14:35:57.298544Z",
     "iopub.status.idle": "2021-01-05T15:06:02.291520Z",
     "shell.execute_reply": "2021-01-05T15:06:02.290895Z"
    },
    "papermill": {
     "duration": 1809.628228,
     "end_time": "2021-01-05T15:06:02.291646",
     "exception": false,
     "start_time": "2021-01-05T14:35:52.663418",
     "status": "completed"
    },
    "tags": []
   },
   "outputs": [
    {
     "name": "stdout",
     "output_type": "stream",
     "text": [
      "Epoch 1/5\n",
      "3347/3347 [==============================] - 356s 106ms/step - loss: 0.8510 - mean_squared_error: 0.8510\n",
      "Epoch 2/5\n",
      "3347/3347 [==============================] - 357s 107ms/step - loss: 0.8558 - mean_squared_error: 0.8558\n",
      "Epoch 3/5\n",
      "3347/3347 [==============================] - 363s 108ms/step - loss: 0.8511 - mean_squared_error: 0.8511\n",
      "Epoch 4/5\n",
      "3347/3347 [==============================] - 359s 107ms/step - loss: 0.8509 - mean_squared_error: 0.8509\n",
      "Epoch 5/5\n",
      "3347/3347 [==============================] - 361s 108ms/step - loss: 0.8509 - mean_squared_error: 0.8509\n"
     ]
    },
    {
     "data": {
      "text/plain": [
       "<tensorflow.python.keras.callbacks.History at 0x7fae0e381910>"
      ]
     },
     "execution_count": 35,
     "metadata": {},
     "output_type": "execute_result"
    }
   ],
   "source": [
    "model2.fit(X, y, batch_size=64, epochs=5)"
   ]
  },
  {
   "cell_type": "markdown",
   "metadata": {
    "papermill": {
     "duration": 10.154956,
     "end_time": "2021-01-05T15:06:22.630894",
     "exception": false,
     "start_time": "2021-01-05T15:06:12.475938",
     "status": "completed"
    },
    "tags": []
   },
   "source": [
    "### Extracting encoding model\n",
    "After training the model, we will take only the encoded part of the model and define it as new one."
   ]
  },
  {
   "cell_type": "code",
   "execution_count": 36,
   "metadata": {
    "execution": {
     "iopub.execute_input": "2021-01-05T15:06:42.870154Z",
     "iopub.status.busy": "2021-01-05T15:06:42.869383Z",
     "iopub.status.idle": "2021-01-05T15:06:42.876106Z",
     "shell.execute_reply": "2021-01-05T15:06:42.876658Z"
    },
    "papermill": {
     "duration": 10.123492,
     "end_time": "2021-01-05T15:06:42.876886",
     "exception": false,
     "start_time": "2021-01-05T15:06:32.753394",
     "status": "completed"
    },
    "tags": []
   },
   "outputs": [],
   "source": [
    "encoder = Model(inputs=model2.inputs, outputs=model2.layers[4].output)"
   ]
  },
  {
   "cell_type": "markdown",
   "metadata": {
    "papermill": {
     "duration": 10.185741,
     "end_time": "2021-01-05T15:07:03.201807",
     "exception": false,
     "start_time": "2021-01-05T15:06:53.016066",
     "status": "completed"
    },
    "tags": []
   },
   "source": [
    "# Prediction on test set"
   ]
  },
  {
   "cell_type": "markdown",
   "metadata": {
    "papermill": {
     "duration": 10.244415,
     "end_time": "2021-01-05T15:07:23.713515",
     "exception": false,
     "start_time": "2021-01-05T15:07:13.469100",
     "status": "completed"
    },
    "tags": []
   },
   "source": [
    "### Build test set"
   ]
  },
  {
   "cell_type": "code",
   "execution_count": 37,
   "metadata": {
    "execution": {
     "iopub.execute_input": "2021-01-05T15:07:43.913093Z",
     "iopub.status.busy": "2021-01-05T15:07:43.912419Z",
     "iopub.status.idle": "2021-01-05T15:07:43.915110Z",
     "shell.execute_reply": "2021-01-05T15:07:43.915649Z"
    },
    "papermill": {
     "duration": 10.122739,
     "end_time": "2021-01-05T15:07:43.915808",
     "exception": false,
     "start_time": "2021-01-05T15:07:33.793069",
     "status": "completed"
    },
    "tags": []
   },
   "outputs": [],
   "source": [
    "test = data.iloc[:,1:]"
   ]
  },
  {
   "cell_type": "code",
   "execution_count": 38,
   "metadata": {
    "execution": {
     "iopub.execute_input": "2021-01-05T15:08:04.201433Z",
     "iopub.status.busy": "2021-01-05T15:08:04.200509Z",
     "iopub.status.idle": "2021-01-05T15:08:04.207017Z",
     "shell.execute_reply": "2021-01-05T15:08:04.206488Z"
    },
    "papermill": {
     "duration": 10.102613,
     "end_time": "2021-01-05T15:08:04.207134",
     "exception": false,
     "start_time": "2021-01-05T15:07:54.104521",
     "status": "completed"
    },
    "tags": []
   },
   "outputs": [
    {
     "data": {
      "text/plain": [
       "(214200, 33, 1)"
      ]
     },
     "execution_count": 38,
     "metadata": {},
     "output_type": "execute_result"
    }
   ],
   "source": [
    "test  = test.values.reshape(test.shape[0], test.shape[1], 1)\n",
    "test.shape"
   ]
  },
  {
   "cell_type": "markdown",
   "metadata": {
    "papermill": {
     "duration": 10.355927,
     "end_time": "2021-01-05T15:08:24.725429",
     "exception": false,
     "start_time": "2021-01-05T15:08:14.369502",
     "status": "completed"
    },
    "tags": []
   },
   "source": [
    "### Regular LSTM Model prediction"
   ]
  },
  {
   "cell_type": "code",
   "execution_count": 39,
   "metadata": {
    "execution": {
     "iopub.execute_input": "2021-01-05T15:08:44.887858Z",
     "iopub.status.busy": "2021-01-05T15:08:44.887167Z",
     "iopub.status.idle": "2021-01-05T15:09:56.201059Z",
     "shell.execute_reply": "2021-01-05T15:09:56.200351Z"
    },
    "papermill": {
     "duration": 81.409724,
     "end_time": "2021-01-05T15:09:56.201197",
     "exception": false,
     "start_time": "2021-01-05T15:08:34.791473",
     "status": "completed"
    },
    "tags": []
   },
   "outputs": [],
   "source": [
    "result = model.predict(test)"
   ]
  },
  {
   "cell_type": "markdown",
   "metadata": {
    "papermill": {
     "duration": 10.167604,
     "end_time": "2021-01-05T15:10:16.490125",
     "exception": false,
     "start_time": "2021-01-05T15:10:06.322521",
     "status": "completed"
    },
    "tags": []
   },
   "source": [
    "### LSTM Autoencoder Model prediction"
   ]
  },
  {
   "cell_type": "code",
   "execution_count": 40,
   "metadata": {
    "execution": {
     "iopub.execute_input": "2021-01-05T15:10:36.712115Z",
     "iopub.status.busy": "2021-01-05T15:10:36.711355Z",
     "iopub.status.idle": "2021-01-05T15:11:56.455307Z",
     "shell.execute_reply": "2021-01-05T15:11:56.454625Z"
    },
    "papermill": {
     "duration": 89.890305,
     "end_time": "2021-01-05T15:11:56.455446",
     "exception": false,
     "start_time": "2021-01-05T15:10:26.565141",
     "status": "completed"
    },
    "tags": []
   },
   "outputs": [],
   "source": [
    "result_2 = encoder.predict(test)"
   ]
  },
  {
   "cell_type": "markdown",
   "metadata": {
    "papermill": {
     "duration": 10.256603,
     "end_time": "2021-01-05T15:12:16.815161",
     "exception": false,
     "start_time": "2021-01-05T15:12:06.558558",
     "status": "completed"
    },
    "tags": []
   },
   "source": [
    "### This is all about this notebook. I hope now you will get some basic idea on how we can do a time series problem. \n",
    "## Thank you for reading this notebook."
   ]
  }
 ],
 "metadata": {
  "kernelspec": {
   "display_name": "Python 3",
   "language": "python",
   "name": "python3"
  },
  "language_info": {
   "codemirror_mode": {
    "name": "ipython",
    "version": 3
   },
   "file_extension": ".py",
   "mimetype": "text/x-python",
   "name": "python",
   "nbconvert_exporter": "python",
   "pygments_lexer": "ipython3",
   "version": "3.7.6"
  },
  "papermill": {
   "duration": 3158.688782,
   "end_time": "2021-01-05T15:12:27.164607",
   "environment_variables": {},
   "exception": null,
   "input_path": "__notebook__.ipynb",
   "output_path": "__notebook__.ipynb",
   "parameters": {},
   "start_time": "2021-01-05T14:19:48.475825",
   "version": "2.1.0"
  }
 },
 "nbformat": 4,
 "nbformat_minor": 4
}
